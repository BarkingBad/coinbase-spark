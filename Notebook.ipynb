{
 "cells": [
  {
   "cell_type": "code",
   "execution_count": null,
   "id": "7a83de7e",
   "metadata": {},
   "outputs": [],
   "source": [
    "from pyspark.sql import SparkSession\n",
    "\n",
    "spark = SparkSession.builder.config(\"spark.sql.streaming.schemaInference\", True).getOrCreate()\n",
    "\n",
    "stream = spark.readStream.format(\"ws\").option(\"schema\", \"ticker\").load() # we need to pass `option(\"schema\", \"ticker\")` to get correct channel subscribed\n",
    "query = stream.select(\"side\", \"product_id\", \"last_size\", \"best_bid\", \"best_ask\", \"time\").writeStream.format(\"console\").outputMode(\"append\").option(\"truncate\", \"false\").start()\n",
    "\n",
    "query.awaitTermination(3) # Let's wait for 10 seconds.\n",
    "query.stop() # Let's stop the query\n",
    "stream.printSchema()\n",
    "spark.stop() # And stop the whole session"
   ]
  },
  {
   "cell_type": "markdown",
   "metadata": {},
   "source": [
    "Uruchamiająć `stream.start()` uruchamiamy w osobnym demonie websocket który streamuje wyniki. Jeżeli wystąpi jakiś błąd po stronie front-endu (np. błąd parsowania kolejnej linijki Pythona) fakt ten nie zostanie zgłoszony do sparka i socket pozostanie otwarty! Nalezy pamiętać, by zamykać stream za każdym razem używająć metody `stop()` (w powyższym przykładzie `query.stop()`). W przypadku utracenia referencji do zapytania, nalezy zastopować całą sesję również metodą `stop()` (w powyższym przykładzie `spark.stop()`) "
   ]
  },
  {
   "cell_type": "code",
   "execution_count": null,
   "metadata": {},
   "outputs": [],
   "source": [
    "# Panic button - press only if you messed up opening new websocket and lost reference to it\n",
    "\n",
    "query.stop()\n",
    "spark.stop()"
   ]
  },
  {
   "cell_type": "markdown",
   "metadata": {},
   "source": [
    "# Zadanie 1\n",
    "\n",
    "Analiza danych CoinBase strumieniowanych przez WebSocket (3p). Napisz zapytanie, które wypisuje średnią wartość wybranego parametru (np. `price`) w przesuwnych oknach czasowych względem czasu transakcji (kolumna `time`), grupując po relacji wymiany (z jakiej waluty na jaką walutę - kolumna `product_id`). "
   ]
  },
  {
   "cell_type": "code",
   "execution_count": null,
   "metadata": {},
   "outputs": [],
   "source": [
    "from pyspark.sql import SparkSession\n",
    "\n",
    "spark = SparkSession.builder.config(\"spark.sql.streaming.schemaInference\", True).config(\"spark.sql.streaming.forceDeleteTempCheckpointLocation\", True).getOrCreate()  \n",
    "stream = spark.readStream.format(\"ws\").option(\"schema\", \"ticker\").load()\n",
    "\n",
    "# your code..."
   ]
  },
  {
   "cell_type": "markdown",
   "metadata": {},
   "source": [
    "# Zadanie 2\n",
    "\n",
    "Watermarking i dane opóźnione (3p). Zmodyfikuj zapytanie z zadania 1 tak, aby zademonstować mechanizm znaków wodnych (watermarks) i obsługi danych opóźnionych. W konsoli powinno być widać, że aktualizują się odpowiednie wiersze tabeli wynikowej (tryb update).\n",
    "\n",
    "Do ćwiczenia można wykorzystać skrypt w katalogu `/mock` napisany w [Scala-cli](https://scala-cli.virtuslab.org/)\n",
    "\n",
    "Skrypt można uruchomić wykorzystując dockera\n",
    "\n",
    "```\n",
    "make image\n",
    "make run\n",
    "```\n",
    "\n",
    "mock service dostępny będzie pod adresem `ws://mock:8025`\n",
    "\n",
    "Skrypt należy uruchomić przed wykonaniem poniższej komórki, uruchomi on server websocketowy. Po uruchomieniu uruchamiamy komórkę i czekamy aż w skrypcie pojawi się informacja `Opened connection successfully!`. Skrypt wysyła kolejne porcje wiadomości po wciśnięciu ENTER\n",
    "\n",
    "W pierwszej serii polecą wiadomości o offsetach: 0s, 14s, 7s  \n",
    "W drugiej serii polecą wiadomości o offsetach: 15s, 8s, 21s  \n",
    "W trzeciej serii polecą wiadomości o offsetach: 4s, 17s  \n",
    "\n",
    "Zadanie wygodnie prezentuje się na watermarku i oknie ustawionym na interwał 10 sekund.\n"
   ]
  },
  {
   "cell_type": "code",
   "execution_count": null,
   "metadata": {},
   "outputs": [],
   "source": [
    "from pyspark.sql import SparkSession\n",
    "\n",
    "spark = SparkSession.builder.config(\"spark.sql.streaming.schemaInference\", True).getOrCreate()\n",
    "\n",
    "# Note url option!\n",
    "stream = spark.readStream.format(\"ws\").option(\"schema\", \"ticker\").option(\"url\", \"ws://mock:8025\").load() # we pass explicit url option to subscribe to our mock service\n",
    "\n",
    "# your code here..."
   ]
  },
  {
   "cell_type": "markdown",
   "metadata": {},
   "source": [
    "# Zadanie 3\n",
    "\n",
    "Łączenie strumieni (3p). Rozdziel sztucznie dane CoinBase na dwa strumienie (wykorzystując filtrowanie subskrypcji): stwórz dwie kolejki WS strumieniujące dane z kanału `ticker`, jedna dla jednego wybranego parametru `product_id` (np. `\"ETH-BTC\"`), a druga dla innego (np. `\"ETH-USD\"`). Następnie stwórz zapytanie, które łączy te strumienie i wypisuje średnią cenę obu parametrów w tych samych oknach czasowych."
   ]
  },
  {
   "cell_type": "code",
   "execution_count": null,
   "id": "21c89f56",
   "metadata": {
    "pycharm": {
     "name": "#%%\n"
    }
   },
   "outputs": [],
   "source": [
    "from pyspark.sql import SparkSession\n",
    "\n",
    "spark = SparkSession.builder.config(\"spark.sql.streaming.schemaInference\", True).config(\"spark.sql.streaming.forceDeleteTempCheckpointLocation\", True).getOrCreate()  \n",
    "stream = spark.readStream.format(\"ws\").option(\"schema\", \"ticker\").load()\n",
    "\n",
    "# your code..."
   ]
  }
 ],
 "metadata": {
  "interpreter": {
   "hash": "916dbcbb3f70747c44a77c7bcd40155683ae19c65e1c03b4aa3499c5328201f1"
  },
  "kernelspec": {
   "display_name": "Python 3.8.10 64-bit",
   "name": "python3"
  },
  "language_info": {
   "codemirror_mode": {
    "name": "ipython",
    "version": 3
   },
   "file_extension": ".py",
   "mimetype": "text/x-python",
   "name": "python",
   "nbconvert_exporter": "python",
   "pygments_lexer": "ipython3",
   "version": "3.8.10"
  }
 },
 "nbformat": 4,
 "nbformat_minor": 5
}
