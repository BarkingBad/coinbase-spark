{
 "cells": [
  {
   "cell_type": "code",
   "execution_count": null,
   "id": "7a83de7e",
   "metadata": {},
   "outputs": [],
   "source": [
    "from pyspark.sql import SparkSession\n",
    "from pyspark.sql.functions import lit, col, unix_timestamp, window\n",
    "\n",
    "spark = SparkSession.builder.config(\"spark.sql.streaming.schemaInference\", True).getOrCreate()\n",
    "\n",
    "stream = spark.readStream.format(\"ws\").option(\"schema\", \"ticker\").load()\n",
    "query = stream.select(\"side\", \"product_id\", \"last_size\", \"best_bid\", \"best_ask\", \"time\").writeStream.format(\"console\").outputMode(\"append\").option(\"truncate\", \"false\").start()\n",
    "\n",
    "query.awaitTermination(10)\n",
    "query.stop()\n",
    "spark.stop()"
   ]
  },
  {
   "cell_type": "code",
   "execution_count": null,
   "id": "21c89f56",
   "metadata": {
    "pycharm": {
     "name": "#%%\n"
    }
   },
   "outputs": [],
   "source": [
    "new_stream.printSchema()"
   ]
  }
 ],
 "metadata": {
  "kernelspec": {
   "display_name": "Python 3 (ipykernel)",
   "language": "python",
   "name": "python3"
  },
  "language_info": {
   "codemirror_mode": {
    "name": "ipython",
    "version": 3
   },
   "file_extension": ".py",
   "mimetype": "text/x-python",
   "name": "python",
   "nbconvert_exporter": "python",
   "pygments_lexer": "ipython3",
   "version": "3.9.7"
  }
 },
 "nbformat": 4,
 "nbformat_minor": 5
}
